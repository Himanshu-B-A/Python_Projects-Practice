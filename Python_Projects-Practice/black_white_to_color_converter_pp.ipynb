{
 "cells": [
  {
   "cell_type": "code",
   "execution_count": 12,
   "metadata": {},
   "outputs": [],
   "source": [
    "import cv2\n",
    "import numpy as np\n",
    "\n",
    "# Step 1: Load the black-and-white (grayscale) image\n",
    "image_path = r\"C:\\Users\\himub\\OneDrive\\Desktop\\python\\All_Image\\black_white.jpeg\"  # Change to your image file\n",
    "gray_image = cv2.imread(image_path, cv2.IMREAD_GRAYSCALE)\n",
    "\n",
    "if gray_image is None:\n",
    "    print(\"Error: Image not found.\")\n",
    "    exit()\n",
    "\n",
    "# Step 2: Apply a color map (Try different colormaps)\n",
    "colorized_image = cv2.applyColorMap(gray_image, cv2.COLORMAP_JET)  # Change to COLORMAP_RAINBOW or others\n",
    "\n",
    "# Step 3: Show the original and colorized images\n",
    "cv2.imshow(\"Black & White Image\", gray_image)\n",
    "cv2.imshow(\"Colorized Image\", colorized_image)\n",
    "\n",
    "cv2.waitKey(0)\n",
    "cv2.destroyAllWindows()\n"
   ]
  },
  {
   "cell_type": "code",
   "execution_count": 11,
   "metadata": {},
   "outputs": [
    {
     "ename": "error",
     "evalue": "OpenCV(4.11.0) D:\\a\\opencv-python\\opencv-python\\opencv\\modules\\dnn\\src\\caffe\\caffe_io.cpp:1126: error: (-2:Unspecified error) FAILED: fs.is_open(). Can't open \"colorization_deploy_v2.prototxt\" in function 'cv::dnn::ReadProtoFromTextFile'\n",
     "output_type": "error",
     "traceback": [
      "\u001b[31m---------------------------------------------------------------------------\u001b[39m",
      "\u001b[31merror\u001b[39m                                     Traceback (most recent call last)",
      "\u001b[36mCell\u001b[39m\u001b[36m \u001b[39m\u001b[32mIn[11]\u001b[39m\u001b[32m, line 10\u001b[39m\n\u001b[32m      7\u001b[39m points_file = \u001b[33m\"\u001b[39m\u001b[33mpts_in_hull.npy\u001b[39m\u001b[33m\"\u001b[39m\n\u001b[32m      9\u001b[39m \u001b[38;5;66;03m# Load the model\u001b[39;00m\n\u001b[32m---> \u001b[39m\u001b[32m10\u001b[39m net = \u001b[43mcv2\u001b[49m\u001b[43m.\u001b[49m\u001b[43mdnn\u001b[49m\u001b[43m.\u001b[49m\u001b[43mreadNetFromCaffe\u001b[49m\u001b[43m(\u001b[49m\u001b[43mproto_file\u001b[49m\u001b[43m,\u001b[49m\u001b[43m \u001b[49m\u001b[43mmodel_file\u001b[49m\u001b[43m)\u001b[49m\n\u001b[32m     11\u001b[39m pts_in_hull = np.load(points_file)\n\u001b[32m     13\u001b[39m \u001b[38;5;66;03m# Load cluster centers as a 1x1 convolution kernel\u001b[39;00m\n",
      "\u001b[31merror\u001b[39m: OpenCV(4.11.0) D:\\a\\opencv-python\\opencv-python\\opencv\\modules\\dnn\\src\\caffe\\caffe_io.cpp:1126: error: (-2:Unspecified error) FAILED: fs.is_open(). Can't open \"colorization_deploy_v2.prototxt\" in function 'cv::dnn::ReadProtoFromTextFile'\n"
     ]
    }
   ],
   "source": [
    "import cv2\n",
    "import numpy as np\n",
    "\n",
    "# Load pre-trained model\n",
    "proto_file = \"colorization_deploy_v2.prototxt\"\n",
    "model_file = \"colorization_release_v2.caffemodel\"\n",
    "points_file = \"pts_in_hull.npy\"\n",
    "\n",
    "# Load the model\n",
    "net = cv2.dnn.readNetFromCaffe(proto_file, model_file)\n",
    "pts_in_hull = np.load(points_file)\n",
    "\n",
    "# Load cluster centers as a 1x1 convolution kernel\n",
    "class8 = net.getLayerId(\"class8_ab\")\n",
    "conv8 = net.getLayerId(\"conv8_313_rh\")\n",
    "net.getLayer(class8).blobs = [pts_in_hull.reshape(2, 313, 1, 1)]\n",
    "net.getLayer(conv8).blobs = [np.full([1, 313], 2.606, np.float32)]\n",
    "\n",
    "def colorize_image(image_path, output_path=\"colorized_output.jpg\"):\n",
    "    # Load the grayscale image\n",
    "    img = cv2.imread(image_path, cv2.IMREAD_GRAYSCALE)\n",
    "    \n",
    "    # Convert grayscale to 3-channel RGB (needed for LAB conversion)\n",
    "    img = cv2.cvtColor(img, cv2.COLOR_GRAY2RGB)\n",
    "\n",
    "    # Convert to LAB color space\n",
    "    lab_img = cv2.cvtColor(img, cv2.COLOR_RGB2LAB)\n",
    "    L = lab_img[:, :, 0]  # Extract lightness channel\n",
    "\n",
    "    # Resize the lightness channel to 224x224 for model input\n",
    "    L_input = cv2.resize(L, (224, 224))\n",
    "    L_input = L_input.astype(\"float32\") / 255.0\n",
    "    L_input = L_input - 0.5\n",
    "    L_input = L_input * 2.0\n",
    "    L_input = cv2.dnn.blobFromImage(L_input)\n",
    "\n",
    "    # Pass through the network\n",
    "    net.setInput(L_input)\n",
    "    ab_output = net.forward()[0, :, :, :].transpose((1, 2, 0))\n",
    "\n",
    "    # Resize ab channels back to original image size\n",
    "    ab_output = cv2.resize(ab_output, (img.shape[1], img.shape[0]))\n",
    "\n",
    "    # Merge with original lightness channel\n",
    "    lab_colorized = np.concatenate((L[:, :, np.newaxis], ab_output), axis=2)\n",
    "    colorized_img = cv2.cvtColor(lab_colorized, cv2.COLOR_LAB2BGR)\n",
    "    colorized_img = np.clip(colorized_img, 0, 255).astype(\"uint8\")\n",
    "\n",
    "    # Save and display the result\n",
    "    cv2.imwrite(output_path, colorized_img)\n",
    "    print(f\"Colorized image saved as {output_path}\")\n",
    "\n",
    "    # Show the images\n",
    "    cv2.imshow(\"Original (Grayscale)\", cv2.imread(image_path))\n",
    "    cv2.imshow(\"Colorized\", colorized_img)\n",
    "    cv2.waitKey(0)\n",
    "    cv2.destroyAllWindows()\n",
    "\n",
    "# Example usage\n",
    "colorize_image(\"black_and_white.jpg\", \"colorized_output.jpg\")\n"
   ]
  },
  {
   "cell_type": "code",
   "execution_count": 8,
   "metadata": {},
   "outputs": [
    {
     "name": "stdout",
     "output_type": "stream",
     "text": [
      "False\n",
      "False\n",
      "False\n"
     ]
    }
   ],
   "source": [
    "import os\n",
    "print(os.path.exists(\"colorization_deploy_v2.prototxt\"))  # Should print True\n",
    "print(os.path.exists(\"colorization_release_v2.caffemodel\"))  # Should print True\n",
    "print(os.path.exists(\"pts_in_hull.npy\"))  # Should print True\n"
   ]
  },
  {
   "cell_type": "code",
   "execution_count": null,
   "metadata": {},
   "outputs": [],
   "source": []
  }
 ],
 "metadata": {
  "kernelspec": {
   "display_name": "Python 3",
   "language": "python",
   "name": "python3"
  },
  "language_info": {
   "codemirror_mode": {
    "name": "ipython",
    "version": 3
   },
   "file_extension": ".py",
   "mimetype": "text/x-python",
   "name": "python",
   "nbconvert_exporter": "python",
   "pygments_lexer": "ipython3",
   "version": "3.13.1"
  }
 },
 "nbformat": 4,
 "nbformat_minor": 2
}
